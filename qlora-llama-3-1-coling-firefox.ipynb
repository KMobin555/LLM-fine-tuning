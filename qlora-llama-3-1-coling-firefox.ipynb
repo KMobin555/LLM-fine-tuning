{
 "cells": [
  {
   "cell_type": "code",
   "execution_count": null,
   "metadata": {
    "_cell_guid": "9a9e2c5e-f64f-4a67-b4ad-ce7dba328989",
    "_uuid": "0c7f597f-039d-4da8-bf8f-b27b81f69e1d",
    "collapsed": false,
    "execution": {
     "iopub.execute_input": "2024-10-13T09:31:58.931164Z",
     "iopub.status.busy": "2024-10-13T09:31:58.930649Z",
     "iopub.status.idle": "2024-10-13T09:32:23.161211Z",
     "shell.execute_reply": "2024-10-13T09:32:23.160091Z",
     "shell.execute_reply.started": "2024-10-13T09:31:58.931129Z"
    },
    "jupyter": {
     "outputs_hidden": false
    },
    "scrolled": true,
    "trusted": true
   },
   "outputs": [],
   "source": [
    "# Necessary until transformers packages is updated in the Kaggle notebook environment. s\n",
    "!pip install --upgrade transformers"
   ]
  },
  {
   "cell_type": "code",
   "execution_count": null,
   "metadata": {
    "_cell_guid": "1196f477-c383-4de4-b67a-28280434dec3",
    "_uuid": "c503f5ee-2bac-4cd3-a0da-d533c2d7aa12",
    "collapsed": false,
    "execution": {
     "iopub.execute_input": "2024-10-13T09:32:23.163502Z",
     "iopub.status.busy": "2024-10-13T09:32:23.163174Z",
     "iopub.status.idle": "2024-10-13T09:34:24.898010Z",
     "shell.execute_reply": "2024-10-13T09:34:24.896954Z",
     "shell.execute_reply.started": "2024-10-13T09:32:23.163466Z"
    },
    "jupyter": {
     "outputs_hidden": false
    },
    "scrolled": true,
    "trusted": true
   },
   "outputs": [],
   "source": [
    "import transformers\n",
    "import torch\n",
    "\n",
    "torch.backends.cuda.enable_mem_efficient_sdp(False)\n",
    "torch.backends.cuda.enable_flash_sdp(False)\n",
    "\n",
    "model_id = \"/kaggle/input/llama-3.1/transformers/8b-instruct/1\"\n",
    "\n",
    "pipeline = transformers.pipeline(\n",
    "    \"text-generation\",\n",
    "    model=model_id,\n",
    "    model_kwargs={\"torch_dtype\": torch.bfloat16},\n",
    "    device_map=\"auto\",\n",
    ")"
   ]
  },
  {
   "cell_type": "code",
   "execution_count": null,
   "metadata": {
    "_cell_guid": "e65f1bd9-0b42-4cb0-8d47-c5500d07b6a5",
    "_uuid": "7d2dd05f-e57e-4c4f-ab74-dbd110d00956",
    "collapsed": false,
    "execution": {
     "iopub.execute_input": "2024-10-13T09:34:24.900444Z",
     "iopub.status.busy": "2024-10-13T09:34:24.899678Z",
     "iopub.status.idle": "2024-10-13T09:34:48.488865Z",
     "shell.execute_reply": "2024-10-13T09:34:48.487871Z",
     "shell.execute_reply.started": "2024-10-13T09:34:24.900397Z"
    },
    "jupyter": {
     "outputs_hidden": false
    },
    "trusted": true
   },
   "outputs": [],
   "source": [
    "text = \"Министерството на туризма в България е отворило нов аспект към туристическата идея. В основата на техния малък градче, Копривщица, бележим нови промени, които стават далеч от бетона и самота. Администрацията на комуна Копривщица води туристическа политика, която подчертава ролята на земята и културната традиция, нежелая само да развива туризма във вилата Копривщицка. Основната идея е да се създаде механизъм за управление на туристическите потенциали на комуната, за да се повдигнат и качеството и достъпността на туристическите атракции.\\n\\nМинистерството разпространява и изявява думите на местните жители за предоставянето на услуги, свързани с туризма, а именно развиване на туризма в градчето, чрез инфраструктура и пространството, необходимо за важните исторически и културни атракции.\\n\\nКопривщицкото министерство създава механизъми за развитие и завладяване на туристическата индустрия, ни предоставяйки право на живот на туристическите агентства и услуги от комуната Копривщица. То предоставя изключително деляне на пари за поддържане на традиционалните храм свети Йоан Пресвети (Зорници) и други стари постройки, асоциирани с мъртвата рилска Коларция, който вид трябва да бъде пазен и достъпен за всеки желаещ.\\n\\nЗа да процлене най-добро до жителите и да насърчи туристическото участие и развитие на туристическата индустрия, водената политика от Министерството на Копривщица акцентира емблемично на културата и историята. То пробужда емоциите и привлича посетителите с малки детайли и особено с историята на точността. В смисъла, това е противоположено на сплотените общества, които развиват мащабни дела на бетон, за да създадат парадокс и уникалност в контекста на туризма в Копривщица.\\n\\nПреминавайки от различните български населени места и минавайки през историята на тяхната култура, всеки може да покаже интерестното обичайно място през туристическите очила. Министерството на Туризма в Копривщица не търси само развитие на туризма от бетона, но също така и без да премахне духа на историята. Разработването на туристическите художествени многоуровнени пространства е важният ключов за довършителното туристическо място Копривщица, заявява истината за това редица от странни истории, където българите са пътували и запазвали уникалната традиция. Идейно това е мисълта и историята, която трябва да се пренесе през туризма в България.\"\n",
    "\n",
    "messages = [\n",
    "    {\"role\": \"system\", \"content\": \"You are an Expert in machine generated text detection. You can analyze text in various languages and can detect them if they are machine generated or human written.\"},\n",
    "    {\"role\": \"user\", \"content\": f\"Please response with either machine generated or human written. After analyzing the following text {text}. Answer:\"},\n",
    "]\n",
    "\n",
    "outputs = pipeline(\n",
    "    messages,\n",
    "    max_new_tokens=128,\n",
    ")\n",
    "print(outputs[0][\"generated_text\"][-1])"
   ]
  },
  {
   "cell_type": "code",
   "execution_count": null,
   "metadata": {
    "_cell_guid": "4e3cc97b-5a10-4199-994c-6a29bd225ae6",
    "_uuid": "cc7642a1-4fb9-4e8c-8992-b9128599b6c6",
    "collapsed": false,
    "execution": {
     "iopub.execute_input": "2024-10-13T09:34:54.843282Z",
     "iopub.status.busy": "2024-10-13T09:34:54.842892Z",
     "iopub.status.idle": "2024-10-13T09:34:56.078173Z",
     "shell.execute_reply": "2024-10-13T09:34:56.077265Z",
     "shell.execute_reply.started": "2024-10-13T09:34:54.843246Z"
    },
    "jupyter": {
     "outputs_hidden": false
    },
    "trusted": true
   },
   "outputs": [],
   "source": [
    "import pandas as pd\n",
    "sub_df = pd.read_json('/kaggle/input/coling-25-task-1/en_devtest_text_id_only.jsonl', lines=True)\n",
    "sub_df"
   ]
  },
  {
   "cell_type": "code",
   "execution_count": null,
   "metadata": {
    "_cell_guid": "0fb01f0f-9eea-4021-ac9d-f863786c6090",
    "_uuid": "b85d545e-4b90-4c07-8798-a92e44f6da08",
    "collapsed": false,
    "execution": {
     "iopub.execute_input": "2024-10-13T09:49:20.487403Z",
     "iopub.status.busy": "2024-10-13T09:49:20.486681Z",
     "iopub.status.idle": "2024-10-13T09:49:20.494723Z",
     "shell.execute_reply": "2024-10-13T09:49:20.493677Z",
     "shell.execute_reply.started": "2024-10-13T09:49:20.487359Z"
    },
    "jupyter": {
     "outputs_hidden": false
    },
    "scrolled": true,
    "trusted": true
   },
   "outputs": [],
   "source": [
    "# Function to classify the text and return 0 for human, 1 for machine\n",
    "def classify_text(text):\n",
    "    # Concatenate system and user prompts into a single string\n",
    "    prompt = (\n",
    "        \"You are an expert in machine-generated text detection. \"\n",
    "        \"and can detect whether it is machine-generated or human-written.\\n\\n\"\n",
    "        f\"Please respond with either 'machine generated' or 'human written'. After analyzing the following text:\\n\\n{text}\\n\\nAnswer:\"\n",
    "    )\n",
    "    \n",
    "    # Run the pipeline on the prompt\n",
    "    outputs = pipeline(prompt, max_new_tokens=50)\n",
    "    \n",
    "    # Extract the generated prediction\n",
    "    generated_text = outputs[0][\"generated_text\"].strip().lower()\n",
    "#     print(\"generated_text \", generated_text)\n",
    "\n",
    "    # Extract the text after \"answer:\"\n",
    "    if \"answer:\" in generated_text:\n",
    "        answer_text = generated_text.split(\"answer:\")[1].strip()\n",
    "         # Split the answer_text into words and get the first 5\n",
    "        words = answer_text.split()[:5]\n",
    "        prediction = \" \".join(words)  # Join the first 5 words back into a string\n",
    "\n",
    "    else:\n",
    "        prediction = generated_text\n",
    "\n",
    "#     print(f\"Prediction: {prediction}\")\n",
    "    \n",
    "    # Map to binary label: 0 for human, 1 for machine\n",
    "    if \"human\" in prediction:\n",
    "        return 0\n",
    "    else:\n",
    "        return 1\n"
   ]
  },
  {
   "cell_type": "code",
   "execution_count": null,
   "metadata": {
    "_cell_guid": "0fb01f0f-9eea-4021-ac9d-f863786c6090",
    "_uuid": "b85d545e-4b90-4c07-8798-a92e44f6da08",
    "collapsed": false,
    "execution": {
     "iopub.execute_input": "2024-10-13T09:49:25.982212Z",
     "iopub.status.busy": "2024-10-13T09:49:25.981807Z"
    },
    "jupyter": {
     "outputs_hidden": false
    },
    "scrolled": true,
    "trusted": true
   },
   "outputs": [],
   "source": [
    "from tqdm import tqdm\n",
    "\n",
    "# Initialize a new column for predictions\n",
    "sub_df['label'] = 1\n",
    "\n",
    "predictions = []\n",
    "# Use tqdm for progress tracking\n",
    "for i in tqdm(range(len(sub_df)), desc=\"Classifying text\"):\n",
    "    # Get the text from each row\n",
    "    text = sub_df.loc[i, 'text']\n",
    "#     print(text)\n",
    "    # Classify and assign the result to the 'prediction' column\n",
    "    final_output = 1\n",
    "\n",
    "    final_output = classify_text(text)\n",
    "#     print('final output printing', final_output)\n",
    "    \n",
    "    predictions.append(final_output)\n",
    "    sub_df.loc[i, 'label'] = final_output\n",
    "\n",
    "# Print the updated DataFrame with predictions\n",
    "sub_df"
   ]
  },
  {
   "cell_type": "code",
   "execution_count": null,
   "metadata": {
    "_cell_guid": "d07a4273-9ed7-4e33-aec7-fdf656c19c25",
    "_uuid": "e8f76d29-c26e-439c-8438-d36eff1680be",
    "collapsed": false,
    "execution": {
     "iopub.execute_input": "2024-10-13T09:24:55.853892Z",
     "iopub.status.busy": "2024-10-13T09:24:55.853133Z",
     "iopub.status.idle": "2024-10-13T09:24:55.930372Z",
     "shell.execute_reply": "2024-10-13T09:24:55.929433Z",
     "shell.execute_reply.started": "2024-10-13T09:24:55.853834Z"
    },
    "jupyter": {
     "outputs_hidden": false
    },
    "trusted": true
   },
   "outputs": [],
   "source": [
    "prediction_file_taska = 'task_a_llm.jsonl' \n",
    "predictions_df = pd.DataFrame({'id': sub_df.id, 'label': predictions})\n",
    "predictions_df.to_json(prediction_file_taska, lines=True, orient='records')\n",
    "predictions_df"
   ]
  },
  {
   "cell_type": "code",
   "execution_count": null,
   "metadata": {
    "_cell_guid": "20a43a92-927a-48ba-b51f-5826911c0c04",
    "_uuid": "8a45cdfe-e403-49d5-9e45-aa4bc4fe376c",
    "collapsed": false,
    "execution": {
     "iopub.execute_input": "2024-10-13T09:24:58.584346Z",
     "iopub.status.busy": "2024-10-13T09:24:58.583982Z",
     "iopub.status.idle": "2024-10-13T09:24:58.596746Z",
     "shell.execute_reply": "2024-10-13T09:24:58.595796Z",
     "shell.execute_reply.started": "2024-10-13T09:24:58.584312Z"
    },
    "jupyter": {
     "outputs_hidden": false
    },
    "trusted": true
   },
   "outputs": [],
   "source": [
    "# sub_df['label'] = predictions\n",
    "sub_df"
   ]
  },
  {
   "cell_type": "code",
   "execution_count": null,
   "metadata": {
    "_cell_guid": "d52394aa-26e6-4465-ad75-c7011e131e2a",
    "_uuid": "10baeb7a-bfcd-4dd1-84bd-59061da62063",
    "collapsed": false,
    "jupyter": {
     "outputs_hidden": false
    },
    "trusted": true
   },
   "outputs": [],
   "source": []
  }
 ],
 "metadata": {
  "accelerator": "GPU",
  "colab": {
   "gpuType": "V100",
   "machine_shape": "hm",
   "provenance": []
  },
  "kaggle": {
   "accelerator": "gpu",
   "dataSources": [
    {
     "datasetId": 5700992,
     "sourceId": 9393827,
     "sourceType": "datasetVersion"
    },
    {
     "datasetId": 5765381,
     "sourceId": 9478835,
     "sourceType": "datasetVersion"
    },
    {
     "datasetId": 5785692,
     "sourceId": 9505903,
     "sourceType": "datasetVersion"
    },
    {
     "datasetId": 5860669,
     "sourceId": 9605714,
     "sourceType": "datasetVersion"
    },
    {
     "isSourceIdPinned": true,
     "modelId": 91102,
     "modelInstanceId": 68809,
     "sourceId": 81881,
     "sourceType": "modelInstanceVersion"
    },
    {
     "isSourceIdPinned": true,
     "modelId": 91102,
     "modelInstanceId": 68806,
     "sourceId": 104433,
     "sourceType": "modelInstanceVersion"
    }
   ],
   "dockerImageVersionId": 30787,
   "isGpuEnabled": true,
   "isInternetEnabled": true,
   "language": "python",
   "sourceType": "notebook"
  },
  "kernelspec": {
   "display_name": "Python 3",
   "language": "python",
   "name": "python3"
  },
  "language_info": {
   "codemirror_mode": {
    "name": "ipython",
    "version": 3
   },
   "file_extension": ".py",
   "mimetype": "text/x-python",
   "name": "python",
   "nbconvert_exporter": "python",
   "pygments_lexer": "ipython3",
   "version": "3.10.14"
  }
 },
 "nbformat": 4,
 "nbformat_minor": 4
}
